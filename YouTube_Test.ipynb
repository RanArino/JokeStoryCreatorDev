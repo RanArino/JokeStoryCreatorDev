{
 "cells": [
  {
   "cell_type": "code",
   "execution_count": 1,
   "metadata": {},
   "outputs": [],
   "source": [
    "from datetime import datetime, timedelta\n",
    "from Functions import GoogleAPI"
   ]
  },
  {
   "cell_type": "code",
   "execution_count": 2,
   "metadata": {},
   "outputs": [
    {
     "name": "stdout",
     "output_type": "stream",
     "text": [
      "Please visit this URL to authorize this application: https://accounts.google.com/o/oauth2/auth?response_type=code&client_id=260967290589-b75u6164vnmki0764bf4og1hhrrqn27b.apps.googleusercontent.com&redirect_uri=http%3A%2F%2Flocalhost%3A50405%2F&scope=https%3A%2F%2Fwww.googleapis.com%2Fauth%2Fdocuments+https%3A%2F%2Fwww.googleapis.com%2Fauth%2Fdrive.file+https%3A%2F%2Fwww.googleapis.com%2Fauth%2Fdrive+https%3A%2F%2Fwww.googleapis.com%2Fauth%2Fyoutube+https%3A%2F%2Fwww.googleapis.com%2Fauth%2Fyoutube.readonly+https%3A%2F%2Fwww.googleapis.com%2Fauth%2Fyoutube.upload+https%3A%2F%2Fwww.googleapis.com%2Fauth%2Fyoutube.force-ssl&state=Spj29ZyDH2RNuMI5i8PN83sqnWVXqc&access_type=offline\n"
     ]
    }
   ],
   "source": [
    "google = GoogleAPI()"
   ]
  },
  {
   "cell_type": "code",
   "execution_count": 3,
   "metadata": {},
   "outputs": [
    {
     "name": "stdout",
     "output_type": "stream",
     "text": [
      "Success: No scheduled videos are found\n"
     ]
    },
    {
     "data": {
      "text/plain": [
       "['2024-04-25T12:00:24Z']"
      ]
     },
     "execution_count": 3,
     "metadata": {},
     "output_type": "execute_result"
    }
   ],
   "source": [
    "schedule = google.get_scheduled_videos()\n",
    "schedule"
   ]
  },
  {
   "cell_type": "code",
   "execution_count": 4,
   "metadata": {},
   "outputs": [
    {
     "data": {
      "text/plain": [
       "['2024-04-26T12:00:00Z']"
      ]
     },
     "execution_count": 4,
     "metadata": {},
     "output_type": "execute_result"
    }
   ],
   "source": [
    "publish_time = google.generate_future_dates(schedule, num_dates=1)\n",
    "publish_time"
   ]
  },
  {
   "cell_type": "code",
   "execution_count": 8,
   "metadata": {},
   "outputs": [],
   "source": [
    "time_test = '2024-04-26T12:00:00Z'"
   ]
  },
  {
   "cell_type": "code",
   "execution_count": 9,
   "metadata": {},
   "outputs": [
    {
     "data": {
      "text/plain": [
       "{'status': 'error',\n",
       " 'message': '<HttpError 400 when requesting None returned \"The request metadata specifies an invalid scheduled publishing time.\". Details: \"[{\\'message\\': \\'The request metadata specifies an invalid scheduled publishing time.\\', \\'domain\\': \\'youtube.video\\', \\'reason\\': \\'invalidPublishAt\\', \\'location\\': \\'body.status.publishAt\\', \\'locationType\\': \\'other\\'}]\">'}"
      ]
     },
     "execution_count": 9,
     "metadata": {},
     "output_type": "execute_result"
    }
   ],
   "source": [
    "content= \"\"\"📽️ Video Description 📽️: \n",
    "Enter a world of robotic humor with Robo and Tinker! 🤖😂 Watch as Tinker tests Robo's buttons, both literally and figuratively, leading to a series of hilarious malfunctions and a playful chase. It's a laugh-out-loud moment of technological mishaps and mischievous fun!\n",
    "\n",
    "🏫 English Explanation 🗣️: \n",
    "1. Robot: A machine capable of carrying out complex actions, often personified in humor.\n",
    "2. Button: Literally a part of the robot used for operation, and a metaphor for triggering reactions.\n",
    "3. System overload: A state where a system can't handle the amount of information or operations, used here for comic effect.\n",
    "4. Anger rising: Typically a human emotion, humorously applied to a robot as part of the pun.\n",
    "5. Catch me if you can: A playful phrase that turns a technical scenario into a game of tag between Robo and Tinker.\n",
    "\n",
    "#shorts #LearnEnglish #StudyEnglish #Humor #Funny #Joke #ShortStory #1min #Anglais #AprenderInglés #ingles #英語学習 #英語 #学英语 #英语学习 #영어학습지\"\"\"\n",
    "\n",
    "\n",
    "google.post_video(\"YouTube Post Test\", content, {'test'}, \"Videos/1059_CarelessQuery.mp4\", time_test)"
   ]
  },
  {
   "cell_type": "code",
   "execution_count": 191,
   "metadata": {},
   "outputs": [
    {
     "data": {
      "text/plain": [
       "'2024-05-02T12:00:00Z'"
      ]
     },
     "execution_count": 191,
     "metadata": {},
     "output_type": "execute_result"
    }
   ],
   "source": [
    "publish_time[0]"
   ]
  },
  {
   "cell_type": "code",
   "execution_count": null,
   "metadata": {},
   "outputs": [],
   "source": []
  },
  {
   "cell_type": "markdown",
   "metadata": {},
   "source": [
    "### Test"
   ]
  },
  {
   "cell_type": "code",
   "execution_count": 2,
   "metadata": {},
   "outputs": [
    {
     "data": {
      "text/plain": [
       "{'New Document': '1OMVHFiIQWVw2_ry0xnknynu7ykuPqatIgwRNriPoY7I',\n",
       " 'API Test 02': '1vseDxlFWOAsZrJTlmOX8QrvfsoWNbHlDAk9r7mI6I_E',\n",
       " '1059_CarelessQuery': '1OiQVuC5D0AflKGu5beG63NaUsWH1L7LYuzu_TQXmtxA'}"
      ]
     },
     "execution_count": 2,
     "metadata": {},
     "output_type": "execute_result"
    }
   ],
   "source": [
    "# get list of docs in a specific folder\n",
    "folder_id = '1FKQa5QuHeDidQMLIlMqad77KLCmr9WOG'\n",
    "docs = google.list_docs(folder_id)\n",
    "docs"
   ]
  },
  {
   "cell_type": "code",
   "execution_count": 5,
   "metadata": {},
   "outputs": [
    {
     "name": "stdout",
     "output_type": "stream",
     "text": [
      "Success: New Docs Created\n"
     ]
    },
    {
     "data": {
      "text/plain": [
       "'1EndVlQhjnT8OoGbNTxHn82rquMUgubMxSdrzkeM3flY'"
      ]
     },
     "execution_count": 5,
     "metadata": {},
     "output_type": "execute_result"
    }
   ],
   "source": [
    "# create a new docs\n",
    "created_id = google.create_docs(\"API Test from Python (move_to_trash)\")\n",
    "created_id"
   ]
  },
  {
   "cell_type": "code",
   "execution_count": 7,
   "metadata": {},
   "outputs": [
    {
     "name": "stdout",
     "output_type": "stream",
     "text": [
      "Success: Document Moved to Trash\n"
     ]
    }
   ],
   "source": [
    "# move docs to trash\n",
    "#google.move_to_trash(created_id)"
   ]
  },
  {
   "cell_type": "code",
   "execution_count": 4,
   "metadata": {},
   "outputs": [
    {
     "name": "stdout",
     "output_type": "stream",
     "text": [
      "Success: Document Deleted\n"
     ]
    }
   ],
   "source": [
    "# delete docs\n",
    "#google.delete_docs(created_id)"
   ]
  },
  {
   "cell_type": "code",
   "execution_count": 8,
   "metadata": {},
   "outputs": [
    {
     "data": {
      "text/plain": [
       "'📽️ Video Description 📽️: \\nDive into a tale of digital miscommunication as queries go awry in a comedic exchange of mistaken searches! 🖥️😂 Watch as the confusion unfolds, with each misunderstood prompt leading to more laughs, proving that even in the age of technology, errors can be a source of joy.\\n\\n🏫 English Explanation 🗣️: \\n1. Query: Refers to a request for information, typically in a database or search engine.\\n2. Miscommunication: A failure to communicate effectively, which is the source of humor in this scenario.\\n3. Digital: Pertaining to technology, emphasizing the modern setting of the joke.\\n4. Search: The act of looking for information, leading to funny results from mixed-up inputs.\\n5. Prompt: A command or instruction given to a computer, often leading to unexpected outcomes when mistaken.\\n\\n#shorts #LearnEnglish #StudyEnglish #Humor #Funny #Joke #ShortStory #1min #Anglais #AprenderInglés #ingles #英語学習 #英語 #学英语 #英语学习 #영어학습지\\n\\n'"
      ]
     },
     "execution_count": 8,
     "metadata": {},
     "output_type": "execute_result"
    }
   ],
   "source": [
    "# get document\n",
    "text_content = google.get_document_content('1OiQVuC5D0AflKGu5beG63NaUsWH1L7LYuzu_TQXmtxA')\n",
    "text_content"
   ]
  },
  {
   "cell_type": "code",
   "execution_count": 19,
   "metadata": {},
   "outputs": [
    {
     "name": "stdout",
     "output_type": "stream",
     "text": [
      "📽️ Video Description 📽️: \n",
      "Dive into a tale of digital miscommunication as queries go awry in a comedic exchange of mistaken searches! 🖥️😂 Watch as the confusion unfolds, with each misunderstood prompt leading to more laughs, proving that even in the age of technology, errors can be a source of joy.\n",
      "\n",
      "🏫 English Explanation 🗣️: \n",
      "1. Query: Refers to a request for information, typically in a database or search engine.\n",
      "2. Miscommunication: A failure to communicate effectively, which is the source of humor in this scenario.\n",
      "3. Digital: Pertaining to technology, emphasizing the modern setting of the joke.\n",
      "4. Search: The act of looking for information, leading to funny results from mixed-up inputs.\n",
      "5. Prompt: A command or instruction given to a computer, often leading to unexpected outcomes when mistaken.\n",
      "\n",
      "#shorts #LearnEnglish #StudyEnglish #Humor #Funny #Joke #ShortStory #1min #Anglais #AprenderInglés #ingles #英語学習 #英語 #学英语 #英语学习 #영어학습지\n",
      "\n",
      "\n"
     ]
    }
   ],
   "source": [
    "print(text_content)"
   ]
  },
  {
   "cell_type": "code",
   "execution_count": null,
   "metadata": {},
   "outputs": [],
   "source": []
  }
 ],
 "metadata": {
  "kernelspec": {
   "display_name": "Python 3",
   "language": "python",
   "name": "python3"
  },
  "language_info": {
   "codemirror_mode": {
    "name": "ipython",
    "version": 3
   },
   "file_extension": ".py",
   "mimetype": "text/x-python",
   "name": "python",
   "nbconvert_exporter": "python",
   "pygments_lexer": "ipython3",
   "version": "3.11.9"
  }
 },
 "nbformat": 4,
 "nbformat_minor": 2
}
