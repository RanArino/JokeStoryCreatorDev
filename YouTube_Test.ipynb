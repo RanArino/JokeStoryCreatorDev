{
 "cells": [
  {
   "cell_type": "code",
   "execution_count": 186,
   "metadata": {},
   "outputs": [
    {
     "name": "stdout",
     "output_type": "stream",
     "text": [
      "Please visit this URL to authorize this application: https://accounts.google.com/o/oauth2/auth?response_type=code&client_id=260967290589-b75u6164vnmki0764bf4og1hhrrqn27b.apps.googleusercontent.com&redirect_uri=http%3A%2F%2Flocalhost%3A50405%2F&scope=https%3A%2F%2Fwww.googleapis.com%2Fauth%2Fdocuments+https%3A%2F%2Fwww.googleapis.com%2Fauth%2Fdrive.file+https%3A%2F%2Fwww.googleapis.com%2Fauth%2Fdrive+https%3A%2F%2Fwww.googleapis.com%2Fauth%2Fyoutube+https%3A%2F%2Fwww.googleapis.com%2Fauth%2Fyoutube.readonly+https%3A%2F%2Fwww.googleapis.com%2Fauth%2Fyoutube.upload+https%3A%2F%2Fwww.googleapis.com%2Fauth%2Fyoutube.force-ssl&state=mIK7lFLvLmCyS1eLAhiG0gVKA8w5SK&access_type=offline\n"
     ]
    }
   ],
   "source": [
    "from datetime import datetime, timedelta\n",
    "from google_auth_oauthlib.flow import InstalledAppFlow\n",
    "from googleapiclient.discovery import build\n",
    "from googleapiclient.http import MediaFileUpload\n",
    "\n",
    "\n",
    "class GoogleAPI:\n",
    "    def __init__(self):\n",
    "        # Obtain credentials\n",
    "        self.creds = self.get_credentials()\n",
    "\n",
    "        # Create YouTube and Drive services\n",
    "        self.youtube = self.create_youtube_service()\n",
    "        self.drive = self.create_drive_service()\n",
    "        self.docs = self.create_docs_service()\n",
    "\n",
    "        # Specify IDs\n",
    "        self.folder_id = '1FKQa5QuHeDidQMLIlMqad77KLCmr9WOG'\n",
    "        self.channel_id = 'UCgT5Qz-GdmPf5aVnpVoQyFA'\n",
    "        self.playlist_id = 'UUgT5Qz-GdmPf5aVnpVoQyFA'\n",
    "\n",
    "    def get_credentials(self):\n",
    "        # Scopes for YouTube and Google Drive\n",
    "        scopes = [\n",
    "            \"https://www.googleapis.com/auth/documents\",\n",
    "            \"https://www.googleapis.com/auth/drive.file\",\n",
    "            \"https://www.googleapis.com/auth/drive\",\n",
    "            'https://www.googleapis.com/auth/youtube',\n",
    "            'https://www.googleapis.com/auth/youtube.readonly',\n",
    "            'https://www.googleapis.com/auth/youtube.upload',\n",
    "            'https://www.googleapis.com/auth/youtube.force-ssl'\n",
    "            ]\n",
    "        \n",
    "        # Create a flow instance to manage the OAuth 2.0 Authorization Grant Flow steps\n",
    "        flow = InstalledAppFlow.from_client_secrets_file('API/client_secret.json', scopes=scopes)\n",
    "        \n",
    "        # Run the flow to obtain the credentials\n",
    "        credentials = flow.run_local_server(port=50405)\n",
    "        \n",
    "        return credentials\n",
    "\n",
    "    def create_youtube_service(self):\n",
    "        # Build the YouTube service object\n",
    "        return build('youtube', 'v3', credentials=self.creds)\n",
    "\n",
    "    def create_drive_service(self):\n",
    "        # Build the Google Drive service object\n",
    "        return build('drive', 'v3', credentials=self.creds)\n",
    "\n",
    "    def create_docs_service(self):\n",
    "        # Build the Google Docs service object\n",
    "        return build('docs', 'v1', credentials=self.creds)\n",
    "\n",
    "    def list_docs(self, folder_id: str = \"\"):\n",
    "        if not folder_id:\n",
    "            folder_id = self.folder_id\n",
    "        # List all Google Docs files\n",
    "        results = google.drive.files().list(\n",
    "                q=f\"mimeType='application/vnd.google-apps.document' and trashed=false and '{folder_id}' in parents\",\n",
    "                fields=\"files(id, name)\"\n",
    "            ).execute()\n",
    "        \n",
    "        # Convert list of files to a dictionary with name as key and id as value\n",
    "        docs_dict = {doc['name']: doc['id'] for doc in results.get('files', [])}\n",
    "\n",
    "        return docs_dict\n",
    "    \n",
    "    def create_docs(self, name: str):\n",
    "        # Define the file metadata including the name and the parent folder ID\n",
    "        document_metadata = {\n",
    "            'name': name,\n",
    "            'mimeType': 'application/vnd.google-apps.document',\n",
    "            'parents': [self.folder_id]\n",
    "        }\n",
    "\n",
    "        # Create the document using the Drive service\n",
    "        document = self.drive.files().create(body=document_metadata).execute()\n",
    "\n",
    "        print(\"Success: New Docs Created\")\n",
    "\n",
    "        # Return the document ID and URL for further operations or verification\n",
    "        return document.get('id')\n",
    "\n",
    "    def get_document_content(self, document_id: str):\n",
    "        # Retrieve the content of a Google Docs document\n",
    "        doc = self.docs.documents().get(documentId=document_id).execute()\n",
    "        # Extract text content from the document\n",
    "        text_content = ''\n",
    "        for element in doc.get('body', {}).get('content', []):\n",
    "            if 'paragraph' in element:\n",
    "                for para_element in element['paragraph']['elements']:\n",
    "                    if 'textRun' in para_element and 'content' in para_element['textRun']:\n",
    "                        text_content += para_element['textRun']['content']\n",
    "        return text_content\n",
    "    \n",
    "    def move_to_trash(self, document_id: str):\n",
    "        # Move the specified Google Docs document to the trash\n",
    "        try:\n",
    "            update_body = {'trashed': True}  # Setting the trashed property to True\n",
    "            self.drive.files().update(fileId=document_id, body=update_body).execute()\n",
    "            print(\"Success: Document Moved to Trash\")\n",
    "            #return {\"status\": \"success\", \"message\": \"Document moved to trash successfully.\"}\n",
    "        except Exception as e:\n",
    "            print(f\"Error: {str(e)}\")\n",
    "            #return {\"status\": \"error\", \"message\": str(e)}\n",
    "\n",
    "    def delete_docs(self, document_id: str):\n",
    "        # Delete the specified Google Docs document\n",
    "        try:\n",
    "            self.drive.files().delete(fileId=document_id).execute()\n",
    "            print(\"Success: Document Deleted\")\n",
    "            #return {\"status\": \"success\", \"message\": \"Document deleted successfully.\"}\n",
    "        except Exception as e:\n",
    "            print(f\"Error: {str(e)}\")\n",
    "            #return {\"status\": \"error\", \"message\": str(e)}\n",
    "\n",
    "    def post_video(self, title: str, content: str, tags: set, path: str, publish_time: str):\n",
    "        # Upload the video file with metadata and scheduled publishing time\n",
    "        try:\n",
    "            # Define video metadata\n",
    "            body = {\n",
    "                'snippet': {\n",
    "                    'title': title,\n",
    "                    'description': content,\n",
    "                    'categoryId': '24',  # 18: ShortMovies, 42: Shorts, 24: Entertainment,\n",
    "                    'tags': list({\"shorts\", \"short joke\", \"funny shorts\", \"comedy clip\", \"instant fun\", \"humor\", \"funny story\", \"joke\", \"english\", \"study english\", \"short story\", *tags})\n",
    "                },\n",
    "                'status': {\n",
    "                    'privacyStatus': 'public',  # You could choose 'private', 'public' or 'unlisted'\n",
    "                    'publishAt': publish_time,\n",
    "                    'selfDeclaredMadeForKids': False\n",
    "                }\n",
    "            }\n",
    "\n",
    "            # Video file to upload\n",
    "            media = MediaFileUpload(path, mimetype='video/*', resumable=True)\n",
    "\n",
    "            # Insert video to YouTube\n",
    "            video = self.youtube.videos().insert(\n",
    "                part=\"snippet,status\",\n",
    "                body=body,\n",
    "                media_body=media\n",
    "            ).execute()\n",
    "\n",
    "            # Return the video ID and URL for verification\n",
    "            return {\"status\": \"success\", \"videoId\": video.get('id')}\n",
    "        except Exception as e:\n",
    "            return {\"status\": \"error\", \"message\": str(e)}\n",
    "\n",
    "    def get_scheduled_videos(self):\n",
    "        # Retrieve the list of scheduled videos that are scheduled but not yet published\n",
    "        try:\n",
    "            # Get the playlists\n",
    "            response1 = self.youtube.playlistItems().list(\n",
    "                    part=\"snippet,contentDetails,status\",\n",
    "                    playlistId=self.playlist_id,\n",
    "                    maxResults=20,\n",
    "                    fields='items(snippet(title, resourceId),contentDetails,status)'\n",
    "                ).execute()\n",
    "            # Retrieve only videoId whose privacyStatus is 'private' (unpublished)\n",
    "            unpublished_videoId = [r['snippet']['resourceId']['videoId'] for r in response1['items'] if r['status']['privacyStatus'] == 'private']\n",
    "\n",
    "            # Get publish time\n",
    "            if unpublished_videoId:\n",
    "                response2 = self.youtube.videos().list(\n",
    "                    part=\"status\",\n",
    "                    id=','.join(unpublished_videoId)\n",
    "                ).execute()\n",
    "                publish_time = [r['status'].get('publishAt', '') for r in response2['items']]\n",
    "\n",
    "                print(f\"Success: {len(publish_time)} scheduled videos are found\")\n",
    "                \n",
    "            else:\n",
    "                publish_time = [response1['items'][0]['contentDetails']['videoPublishedAt']]\n",
    "\n",
    "                print(\"Success: No scheduled videos are found\")\n",
    "                    \n",
    "            return publish_time\n",
    "            #return {\"status\": \"success\", \"pending_dates\": pending_dates}\n",
    "\n",
    "        except Exception as e:\n",
    "            \n",
    "            return {\"status\": \"error\", \"message\": str(e)}\n",
    "\n",
    "    def generate_future_dates(self, input_times: list, num_dates: int = 10, publish_times: list = ['T12:00:00Z', 'T13:00:00Z'], include_weekends: bool = False):\n",
    "        # Convert input string times to datetime objects\n",
    "        dates = [datetime.strptime(time, '%Y-%m-%dT%H:%M:%SZ') for time in input_times]\n",
    "        # Find the latest date from the inputs\n",
    "        latest_date = max(dates)\n",
    "        # List to hold the resulting datetime objects\n",
    "        result_dates = []\n",
    "        # Counter to track the number of valid days generated\n",
    "        count = 0\n",
    "        # Increment days starting from the day after the latest date\n",
    "        increment_day = 1\n",
    "\n",
    "        while count < num_dates:\n",
    "            # Generate dates for each specified time of publication\n",
    "            for publish_time in publish_times:\n",
    "                if count >= num_dates:\n",
    "                    break\n",
    "                # Create a new date combining the latest date and the time of publication\n",
    "                new_date = datetime(latest_date.year, latest_date.month, latest_date.day) + timedelta(days=increment_day)\n",
    "                new_time = datetime.strptime(publish_time, 'T%H:%M:%SZ').time()\n",
    "                new_datetime = datetime.combine(new_date, new_time)\n",
    "                # Check if weekends should be included\n",
    "                if not include_weekends and new_datetime.weekday() >= 5:  # 5 and 6 are Saturday and Sunday\n",
    "                    continue\n",
    "                result_dates.append(new_datetime.isoformat() + 'Z')\n",
    "                count += 1\n",
    "            increment_day += 1\n",
    "\n",
    "        return result_dates\n",
    "\n",
    "\n",
    "# Create Google API object\n",
    "google = GoogleAPI()"
   ]
  },
  {
   "cell_type": "code",
   "execution_count": 187,
   "metadata": {},
   "outputs": [
    {
     "name": "stdout",
     "output_type": "stream",
     "text": [
      "Success: 2 scheduled videos are found\n"
     ]
    }
   ],
   "source": [
    "schedule = google.get_scheduled_videos()\n",
    "publish_time = google.generate_future_dates(schedule, num_dates=1)"
   ]
  },
  {
   "cell_type": "code",
   "execution_count": 201,
   "metadata": {},
   "outputs": [
    {
     "data": {
      "text/plain": [
       "['2024-05-02T12:00:00Z']"
      ]
     },
     "execution_count": 201,
     "metadata": {},
     "output_type": "execute_result"
    }
   ],
   "source": [
    "publish_time"
   ]
  },
  {
   "cell_type": "code",
   "execution_count": 188,
   "metadata": {},
   "outputs": [
    {
     "data": {
      "text/plain": [
       "{'status': 'error',\n",
       " 'message': '<HttpError 400 when requesting None returned \"The request metadata specifies an invalid scheduled publishing time.\". Details: \"[{\\'message\\': \\'The request metadata specifies an invalid scheduled publishing time.\\', \\'domain\\': \\'youtube.video\\', \\'reason\\': \\'invalidPublishAt\\', \\'location\\': \\'body.status.publishAt\\', \\'locationType\\': \\'other\\'}]\">'}"
      ]
     },
     "execution_count": 188,
     "metadata": {},
     "output_type": "execute_result"
    }
   ],
   "source": [
    "content= \"\"\"📽️ Video Description 📽️: \n",
    "Enter a world of robotic humor with Robo and Tinker! 🤖😂 Watch as Tinker tests Robo's buttons, both literally and figuratively, leading to a series of hilarious malfunctions and a playful chase. It's a laugh-out-loud moment of technological mishaps and mischievous fun!\n",
    "\n",
    "🏫 English Explanation 🗣️: \n",
    "1. Robot: A machine capable of carrying out complex actions, often personified in humor.\n",
    "2. Button: Literally a part of the robot used for operation, and a metaphor for triggering reactions.\n",
    "3. System overload: A state where a system can't handle the amount of information or operations, used here for comic effect.\n",
    "4. Anger rising: Typically a human emotion, humorously applied to a robot as part of the pun.\n",
    "5. Catch me if you can: A playful phrase that turns a technical scenario into a game of tag between Robo and Tinker.\n",
    "\n",
    "#shorts #LearnEnglish #StudyEnglish #Humor #Funny #Joke #ShortStory #1min #Anglais #AprenderInglés #ingles #英語学習 #英語 #学英语 #英语学习 #영어학습지\"\"\"\n",
    "\n",
    "\n",
    "google.post_video(\"YouTube Post Test\", content, {'test'}, \"Videos/1059_CarelessQuery.mp4\", publish_time[0])"
   ]
  },
  {
   "cell_type": "code",
   "execution_count": 191,
   "metadata": {},
   "outputs": [
    {
     "data": {
      "text/plain": [
       "'2024-05-02T12:00:00Z'"
      ]
     },
     "execution_count": 191,
     "metadata": {},
     "output_type": "execute_result"
    }
   ],
   "source": [
    "publish_time[0]"
   ]
  },
  {
   "cell_type": "code",
   "execution_count": 200,
   "metadata": {},
   "outputs": [
    {
     "ename": "ResumableUploadError",
     "evalue": "<HttpError 403 when requesting None returned \"The request cannot be completed because you have exceeded your <a href=\"/youtube/v3/getting-started#quota\">quota</a>.\". Details: \"[{'message': 'The request cannot be completed because you have exceeded your <a href=\"/youtube/v3/getting-started#quota\">quota</a>.', 'domain': 'youtube.quota', 'reason': 'quotaExceeded'}]\">",
     "output_type": "error",
     "traceback": [
      "\u001b[1;31m---------------------------------------------------------------------------\u001b[0m",
      "\u001b[1;31mResumableUploadError\u001b[0m                      Traceback (most recent call last)",
      "Cell \u001b[1;32mIn[200], line 23\u001b[0m\n\u001b[0;32m     16\u001b[0m media \u001b[38;5;241m=\u001b[39m MediaFileUpload(\u001b[38;5;124m\"\u001b[39m\u001b[38;5;124mVideos/1059_CarelessQuery.mp4\u001b[39m\u001b[38;5;124m\"\u001b[39m, mimetype\u001b[38;5;241m=\u001b[39m\u001b[38;5;124m'\u001b[39m\u001b[38;5;124mvideo/*\u001b[39m\u001b[38;5;124m'\u001b[39m, resumable\u001b[38;5;241m=\u001b[39m\u001b[38;5;28;01mTrue\u001b[39;00m)\n\u001b[0;32m     18\u001b[0m \u001b[38;5;66;03m# Insert video to YouTube\u001b[39;00m\n\u001b[0;32m     19\u001b[0m video \u001b[38;5;241m=\u001b[39m \u001b[43mgoogle\u001b[49m\u001b[38;5;241;43m.\u001b[39;49m\u001b[43myoutube\u001b[49m\u001b[38;5;241;43m.\u001b[39;49m\u001b[43mvideos\u001b[49m\u001b[43m(\u001b[49m\u001b[43m)\u001b[49m\u001b[38;5;241;43m.\u001b[39;49m\u001b[43minsert\u001b[49m\u001b[43m(\u001b[49m\n\u001b[0;32m     20\u001b[0m \u001b[43m    \u001b[49m\u001b[43mpart\u001b[49m\u001b[38;5;241;43m=\u001b[39;49m\u001b[38;5;124;43m\"\u001b[39;49m\u001b[38;5;124;43msnippet,status\u001b[39;49m\u001b[38;5;124;43m\"\u001b[39;49m\u001b[43m,\u001b[49m\n\u001b[0;32m     21\u001b[0m \u001b[43m    \u001b[49m\u001b[43mbody\u001b[49m\u001b[38;5;241;43m=\u001b[39;49m\u001b[43mbody\u001b[49m\u001b[43m,\u001b[49m\n\u001b[0;32m     22\u001b[0m \u001b[43m    \u001b[49m\u001b[43mmedia_body\u001b[49m\u001b[38;5;241;43m=\u001b[39;49m\u001b[43mmedia\u001b[49m\n\u001b[1;32m---> 23\u001b[0m \u001b[43m)\u001b[49m\u001b[38;5;241;43m.\u001b[39;49m\u001b[43mexecute\u001b[49m\u001b[43m(\u001b[49m\u001b[43m)\u001b[49m\n",
      "File \u001b[1;32m~\\AppData\\Local\\Packages\\PythonSoftwareFoundation.Python.3.11_qbz5n2kfra8p0\\LocalCache\\local-packages\\Python311\\site-packages\\googleapiclient\\_helpers.py:130\u001b[0m, in \u001b[0;36mpositional.<locals>.positional_decorator.<locals>.positional_wrapper\u001b[1;34m(*args, **kwargs)\u001b[0m\n\u001b[0;32m    128\u001b[0m     \u001b[38;5;28;01melif\u001b[39;00m positional_parameters_enforcement \u001b[38;5;241m==\u001b[39m POSITIONAL_WARNING:\n\u001b[0;32m    129\u001b[0m         logger\u001b[38;5;241m.\u001b[39mwarning(message)\n\u001b[1;32m--> 130\u001b[0m \u001b[38;5;28;01mreturn\u001b[39;00m \u001b[43mwrapped\u001b[49m\u001b[43m(\u001b[49m\u001b[38;5;241;43m*\u001b[39;49m\u001b[43margs\u001b[49m\u001b[43m,\u001b[49m\u001b[43m \u001b[49m\u001b[38;5;241;43m*\u001b[39;49m\u001b[38;5;241;43m*\u001b[39;49m\u001b[43mkwargs\u001b[49m\u001b[43m)\u001b[49m\n",
      "File \u001b[1;32m~\\AppData\\Local\\Packages\\PythonSoftwareFoundation.Python.3.11_qbz5n2kfra8p0\\LocalCache\\local-packages\\Python311\\site-packages\\googleapiclient\\http.py:902\u001b[0m, in \u001b[0;36mHttpRequest.execute\u001b[1;34m(self, http, num_retries)\u001b[0m\n\u001b[0;32m    900\u001b[0m     body \u001b[38;5;241m=\u001b[39m \u001b[38;5;28;01mNone\u001b[39;00m\n\u001b[0;32m    901\u001b[0m     \u001b[38;5;28;01mwhile\u001b[39;00m body \u001b[38;5;129;01mis\u001b[39;00m \u001b[38;5;28;01mNone\u001b[39;00m:\n\u001b[1;32m--> 902\u001b[0m         _, body \u001b[38;5;241m=\u001b[39m \u001b[38;5;28;43mself\u001b[39;49m\u001b[38;5;241;43m.\u001b[39;49m\u001b[43mnext_chunk\u001b[49m\u001b[43m(\u001b[49m\u001b[43mhttp\u001b[49m\u001b[38;5;241;43m=\u001b[39;49m\u001b[43mhttp\u001b[49m\u001b[43m,\u001b[49m\u001b[43m \u001b[49m\u001b[43mnum_retries\u001b[49m\u001b[38;5;241;43m=\u001b[39;49m\u001b[43mnum_retries\u001b[49m\u001b[43m)\u001b[49m\n\u001b[0;32m    903\u001b[0m     \u001b[38;5;28;01mreturn\u001b[39;00m body\n\u001b[0;32m    905\u001b[0m \u001b[38;5;66;03m# Non-resumable case.\u001b[39;00m\n",
      "File \u001b[1;32m~\\AppData\\Local\\Packages\\PythonSoftwareFoundation.Python.3.11_qbz5n2kfra8p0\\LocalCache\\local-packages\\Python311\\site-packages\\googleapiclient\\_helpers.py:130\u001b[0m, in \u001b[0;36mpositional.<locals>.positional_decorator.<locals>.positional_wrapper\u001b[1;34m(*args, **kwargs)\u001b[0m\n\u001b[0;32m    128\u001b[0m     \u001b[38;5;28;01melif\u001b[39;00m positional_parameters_enforcement \u001b[38;5;241m==\u001b[39m POSITIONAL_WARNING:\n\u001b[0;32m    129\u001b[0m         logger\u001b[38;5;241m.\u001b[39mwarning(message)\n\u001b[1;32m--> 130\u001b[0m \u001b[38;5;28;01mreturn\u001b[39;00m \u001b[43mwrapped\u001b[49m\u001b[43m(\u001b[49m\u001b[38;5;241;43m*\u001b[39;49m\u001b[43margs\u001b[49m\u001b[43m,\u001b[49m\u001b[43m \u001b[49m\u001b[38;5;241;43m*\u001b[39;49m\u001b[38;5;241;43m*\u001b[39;49m\u001b[43mkwargs\u001b[49m\u001b[43m)\u001b[49m\n",
      "File \u001b[1;32m~\\AppData\\Local\\Packages\\PythonSoftwareFoundation.Python.3.11_qbz5n2kfra8p0\\LocalCache\\local-packages\\Python311\\site-packages\\googleapiclient\\http.py:1022\u001b[0m, in \u001b[0;36mHttpRequest.next_chunk\u001b[1;34m(self, http, num_retries)\u001b[0m\n\u001b[0;32m   1020\u001b[0m         \u001b[38;5;28mself\u001b[39m\u001b[38;5;241m.\u001b[39mresumable_uri \u001b[38;5;241m=\u001b[39m resp[\u001b[38;5;124m\"\u001b[39m\u001b[38;5;124mlocation\u001b[39m\u001b[38;5;124m\"\u001b[39m]\n\u001b[0;32m   1021\u001b[0m     \u001b[38;5;28;01melse\u001b[39;00m:\n\u001b[1;32m-> 1022\u001b[0m         \u001b[38;5;28;01mraise\u001b[39;00m ResumableUploadError(resp, content)\n\u001b[0;32m   1023\u001b[0m \u001b[38;5;28;01melif\u001b[39;00m \u001b[38;5;28mself\u001b[39m\u001b[38;5;241m.\u001b[39m_in_error_state:\n\u001b[0;32m   1024\u001b[0m     \u001b[38;5;66;03m# If we are in an error state then query the server for current state of\u001b[39;00m\n\u001b[0;32m   1025\u001b[0m     \u001b[38;5;66;03m# the upload by sending an empty PUT and reading the 'range' header in\u001b[39;00m\n\u001b[0;32m   1026\u001b[0m     \u001b[38;5;66;03m# the response.\u001b[39;00m\n\u001b[0;32m   1027\u001b[0m     headers \u001b[38;5;241m=\u001b[39m {\u001b[38;5;124m\"\u001b[39m\u001b[38;5;124mContent-Range\u001b[39m\u001b[38;5;124m\"\u001b[39m: \u001b[38;5;124m\"\u001b[39m\u001b[38;5;124mbytes */\u001b[39m\u001b[38;5;132;01m%s\u001b[39;00m\u001b[38;5;124m\"\u001b[39m \u001b[38;5;241m%\u001b[39m size, \u001b[38;5;124m\"\u001b[39m\u001b[38;5;124mcontent-length\u001b[39m\u001b[38;5;124m\"\u001b[39m: \u001b[38;5;124m\"\u001b[39m\u001b[38;5;124m0\u001b[39m\u001b[38;5;124m\"\u001b[39m}\n",
      "\u001b[1;31mResumableUploadError\u001b[0m: <HttpError 403 when requesting None returned \"The request cannot be completed because you have exceeded your <a href=\"/youtube/v3/getting-started#quota\">quota</a>.\". Details: \"[{'message': 'The request cannot be completed because you have exceeded your <a href=\"/youtube/v3/getting-started#quota\">quota</a>.', 'domain': 'youtube.quota', 'reason': 'quotaExceeded'}]\">"
     ]
    }
   ],
   "source": [
    "body = {\n",
    "    'snippet': {\n",
    "        'title': \"YouTube Post Test\",\n",
    "        'description': content,\n",
    "        'categoryId': '24',  # 18: ShortMovies, 42: Shorts, 24: Entertainment,\n",
    "        'tags': list({\"shorts\", \"short joke\", \"funny shorts\", \"comedy clip\", \"instant fun\", \"humor\", \"funny story\", \"joke\", \"english\", \"study english\", \"short story\"})\n",
    "    },\n",
    "    'status': {\n",
    "        'privacyStatus': 'unlisted',  # You could choose 'private', 'public' or 'unlisted'\n",
    "        'publishAt': '2024-04-26T13:00:00Z',\n",
    "        'selfDeclaredMadeForKids': False\n",
    "    }\n",
    "}\n",
    "\n",
    "# Video file to upload\n",
    "media = MediaFileUpload(\"Videos/1059_CarelessQuery.mp4\", mimetype='video/*', resumable=True)\n",
    "\n",
    "# Insert video to YouTube\n",
    "video = google.youtube.videos().insert(\n",
    "    part=\"snippet,status\",\n",
    "    body=body,\n",
    "    media_body=media\n",
    ").execute()\n"
   ]
  },
  {
   "cell_type": "code",
   "execution_count": 199,
   "metadata": {},
   "outputs": [
    {
     "data": {
      "text/plain": [
       "'2024-05-02T12:00:00Z'"
      ]
     },
     "execution_count": 199,
     "metadata": {},
     "output_type": "execute_result"
    }
   ],
   "source": [
    "publish_time[0]"
   ]
  },
  {
   "cell_type": "code",
   "execution_count": null,
   "metadata": {},
   "outputs": [],
   "source": [
    "'2024-04-26T13:00:00Z'"
   ]
  },
  {
   "cell_type": "code",
   "execution_count": 194,
   "metadata": {},
   "outputs": [
    {
     "data": {
      "text/plain": [
       "{'uploadStatus': 'uploaded',\n",
       " 'privacyStatus': 'unlisted',\n",
       " 'license': 'youtube',\n",
       " 'embeddable': True,\n",
       " 'publicStatsViewable': True,\n",
       " 'selfDeclaredMadeForKids': False}"
      ]
     },
     "execution_count": 194,
     "metadata": {},
     "output_type": "execute_result"
    }
   ],
   "source": [
    "video['status']"
   ]
  },
  {
   "cell_type": "code",
   "execution_count": 195,
   "metadata": {},
   "outputs": [
    {
     "data": {
      "text/plain": [
       "{'kind': 'youtube#videoListResponse',\n",
       " 'etag': 'BC6aok7_ADvIa02ImtXTct7KxG8',\n",
       " 'items': [{'kind': 'youtube#video',\n",
       "   'etag': 'LjqV34neFBCBfJ65k0_Tj20V21k',\n",
       "   'id': 'aC1VbHuGq5A',\n",
       "   'status': {'uploadStatus': 'processed',\n",
       "    'privacyStatus': 'private',\n",
       "    'publishAt': '2024-04-30T04:00:00Z',\n",
       "    'license': 'youtube',\n",
       "    'embeddable': True,\n",
       "    'publicStatsViewable': True,\n",
       "    'madeForKids': False,\n",
       "    'selfDeclaredMadeForKids': False}},\n",
       "  {'kind': 'youtube#video',\n",
       "   'etag': 'zcr5GrIZ5pdjWwObWjEqZGETc_o',\n",
       "   'id': 'thuaOSSFWgY',\n",
       "   'status': {'uploadStatus': 'processed',\n",
       "    'privacyStatus': 'public',\n",
       "    'license': 'youtube',\n",
       "    'embeddable': True,\n",
       "    'publicStatsViewable': True,\n",
       "    'madeForKids': False,\n",
       "    'selfDeclaredMadeForKids': False}}],\n",
       " 'pageInfo': {'totalResults': 2, 'resultsPerPage': 2}}"
      ]
     },
     "execution_count": 195,
     "metadata": {},
     "output_type": "execute_result"
    }
   ],
   "source": [
    "response"
   ]
  },
  {
   "cell_type": "code",
   "execution_count": null,
   "metadata": {},
   "outputs": [
    {
     "data": {
      "text/plain": [
       "{'kind': 'youtube#videoCategoryListResponse',\n",
       " 'etag': 'QteLrrS_X7rM7rlcU_e7qa0embQ',\n",
       " 'items': [{'kind': 'youtube#videoCategory',\n",
       "   'etag': 'grPOPYEUUZN3ltuDUGEWlrTR90U',\n",
       "   'id': '1',\n",
       "   'snippet': {'title': 'Film & Animation',\n",
       "    'assignable': True,\n",
       "    'channelId': 'UCBR8-60-B28hp2BmDPdntcQ'}},\n",
       "  {'kind': 'youtube#videoCategory',\n",
       "   'etag': 'Q0xgUf8BFM8rW3W0R9wNq809xyA',\n",
       "   'id': '2',\n",
       "   'snippet': {'title': 'Autos & Vehicles',\n",
       "    'assignable': True,\n",
       "    'channelId': 'UCBR8-60-B28hp2BmDPdntcQ'}},\n",
       "  {'kind': 'youtube#videoCategory',\n",
       "   'etag': 'qnpwjh5QlWM5hrnZCvHisquztC4',\n",
       "   'id': '10',\n",
       "   'snippet': {'title': 'Music',\n",
       "    'assignable': True,\n",
       "    'channelId': 'UCBR8-60-B28hp2BmDPdntcQ'}},\n",
       "  {'kind': 'youtube#videoCategory',\n",
       "   'etag': 'HyFIixS5BZaoBdkQdLzPdoXWipg',\n",
       "   'id': '15',\n",
       "   'snippet': {'title': 'Pets & Animals',\n",
       "    'assignable': True,\n",
       "    'channelId': 'UCBR8-60-B28hp2BmDPdntcQ'}},\n",
       "  {'kind': 'youtube#videoCategory',\n",
       "   'etag': 'PNU8SwXhjsF90fmkilVohofOi4I',\n",
       "   'id': '17',\n",
       "   'snippet': {'title': 'Sports',\n",
       "    'assignable': True,\n",
       "    'channelId': 'UCBR8-60-B28hp2BmDPdntcQ'}},\n",
       "  {'kind': 'youtube#videoCategory',\n",
       "   'etag': '5kFljz9YJ4lEgSfVwHWi5kTAwAs',\n",
       "   'id': '18',\n",
       "   'snippet': {'title': 'Short Movies',\n",
       "    'assignable': False,\n",
       "    'channelId': 'UCBR8-60-B28hp2BmDPdntcQ'}},\n",
       "  {'kind': 'youtube#videoCategory',\n",
       "   'etag': 'ANnLQyzEA_9m3bMyJXMhKTCOiyg',\n",
       "   'id': '19',\n",
       "   'snippet': {'title': 'Travel & Events',\n",
       "    'assignable': True,\n",
       "    'channelId': 'UCBR8-60-B28hp2BmDPdntcQ'}},\n",
       "  {'kind': 'youtube#videoCategory',\n",
       "   'etag': '0Hh6gbZ9zWjnV3sfdZjKB5LQr6E',\n",
       "   'id': '20',\n",
       "   'snippet': {'title': 'Gaming',\n",
       "    'assignable': True,\n",
       "    'channelId': 'UCBR8-60-B28hp2BmDPdntcQ'}},\n",
       "  {'kind': 'youtube#videoCategory',\n",
       "   'etag': 'q8Cp4pUfCD8Fuh8VJ_yl5cBCVNw',\n",
       "   'id': '21',\n",
       "   'snippet': {'title': 'Videoblogging',\n",
       "    'assignable': False,\n",
       "    'channelId': 'UCBR8-60-B28hp2BmDPdntcQ'}},\n",
       "  {'kind': 'youtube#videoCategory',\n",
       "   'etag': 'cHDaaqPDZsJT1FPr1-MwtyIhR28',\n",
       "   'id': '22',\n",
       "   'snippet': {'title': 'People & Blogs',\n",
       "    'assignable': True,\n",
       "    'channelId': 'UCBR8-60-B28hp2BmDPdntcQ'}},\n",
       "  {'kind': 'youtube#videoCategory',\n",
       "   'etag': '3Uz364xBbKY50a2s0XQlv-gXJds',\n",
       "   'id': '23',\n",
       "   'snippet': {'title': 'Comedy',\n",
       "    'assignable': True,\n",
       "    'channelId': 'UCBR8-60-B28hp2BmDPdntcQ'}},\n",
       "  {'kind': 'youtube#videoCategory',\n",
       "   'etag': '0srcLUqQzO7-NGLF7QnhdVzJQmY',\n",
       "   'id': '24',\n",
       "   'snippet': {'title': 'Entertainment',\n",
       "    'assignable': True,\n",
       "    'channelId': 'UCBR8-60-B28hp2BmDPdntcQ'}},\n",
       "  {'kind': 'youtube#videoCategory',\n",
       "   'etag': 'bQlQMjmYX7DyFkX4w3kT0osJyIc',\n",
       "   'id': '25',\n",
       "   'snippet': {'title': 'News & Politics',\n",
       "    'assignable': True,\n",
       "    'channelId': 'UCBR8-60-B28hp2BmDPdntcQ'}},\n",
       "  {'kind': 'youtube#videoCategory',\n",
       "   'etag': 'Y06N41HP_WlZmeREZvkGF0HW5pg',\n",
       "   'id': '26',\n",
       "   'snippet': {'title': 'Howto & Style',\n",
       "    'assignable': True,\n",
       "    'channelId': 'UCBR8-60-B28hp2BmDPdntcQ'}},\n",
       "  {'kind': 'youtube#videoCategory',\n",
       "   'etag': 'yBaNkLx4sX9NcDmFgAmxQcV4Y30',\n",
       "   'id': '27',\n",
       "   'snippet': {'title': 'Education',\n",
       "    'assignable': True,\n",
       "    'channelId': 'UCBR8-60-B28hp2BmDPdntcQ'}},\n",
       "  {'kind': 'youtube#videoCategory',\n",
       "   'etag': 'Mxy3A-SkmnR7MhJDZRS4DuAIbQA',\n",
       "   'id': '28',\n",
       "   'snippet': {'title': 'Science & Technology',\n",
       "    'assignable': True,\n",
       "    'channelId': 'UCBR8-60-B28hp2BmDPdntcQ'}},\n",
       "  {'kind': 'youtube#videoCategory',\n",
       "   'etag': 'p3lEirEJApyEkuWpaGEHoF-m-aA',\n",
       "   'id': '29',\n",
       "   'snippet': {'title': 'Nonprofits & Activism',\n",
       "    'assignable': True,\n",
       "    'channelId': 'UCBR8-60-B28hp2BmDPdntcQ'}},\n",
       "  {'kind': 'youtube#videoCategory',\n",
       "   'etag': '4pIHL_AdN2kO7btAGAP1TvPucNk',\n",
       "   'id': '30',\n",
       "   'snippet': {'title': 'Movies',\n",
       "    'assignable': False,\n",
       "    'channelId': 'UCBR8-60-B28hp2BmDPdntcQ'}},\n",
       "  {'kind': 'youtube#videoCategory',\n",
       "   'etag': 'Iqol1myDwh2AuOnxjtn2AfYwJTU',\n",
       "   'id': '31',\n",
       "   'snippet': {'title': 'Anime/Animation',\n",
       "    'assignable': False,\n",
       "    'channelId': 'UCBR8-60-B28hp2BmDPdntcQ'}},\n",
       "  {'kind': 'youtube#videoCategory',\n",
       "   'etag': 'tzhBKCBcYWZLPai5INY4id91ss8',\n",
       "   'id': '32',\n",
       "   'snippet': {'title': 'Action/Adventure',\n",
       "    'assignable': False,\n",
       "    'channelId': 'UCBR8-60-B28hp2BmDPdntcQ'}},\n",
       "  {'kind': 'youtube#videoCategory',\n",
       "   'etag': 'ii8nBGYpKyl6FyzP3cmBCevdrbs',\n",
       "   'id': '33',\n",
       "   'snippet': {'title': 'Classics',\n",
       "    'assignable': False,\n",
       "    'channelId': 'UCBR8-60-B28hp2BmDPdntcQ'}},\n",
       "  {'kind': 'youtube#videoCategory',\n",
       "   'etag': 'Y0u9UAQCCGp60G11Arac5Mp46z4',\n",
       "   'id': '34',\n",
       "   'snippet': {'title': 'Comedy',\n",
       "    'assignable': False,\n",
       "    'channelId': 'UCBR8-60-B28hp2BmDPdntcQ'}},\n",
       "  {'kind': 'youtube#videoCategory',\n",
       "   'etag': '_YDnyT205AMuX8etu8loOiQjbD4',\n",
       "   'id': '35',\n",
       "   'snippet': {'title': 'Documentary',\n",
       "    'assignable': False,\n",
       "    'channelId': 'UCBR8-60-B28hp2BmDPdntcQ'}},\n",
       "  {'kind': 'youtube#videoCategory',\n",
       "   'etag': 'eAl2b-uqIGRDgnlMa0EsGZjXmWg',\n",
       "   'id': '36',\n",
       "   'snippet': {'title': 'Drama',\n",
       "    'assignable': False,\n",
       "    'channelId': 'UCBR8-60-B28hp2BmDPdntcQ'}},\n",
       "  {'kind': 'youtube#videoCategory',\n",
       "   'etag': 'HDAW2HFOt3SqeDI00X-eL7OELfY',\n",
       "   'id': '37',\n",
       "   'snippet': {'title': 'Family',\n",
       "    'assignable': False,\n",
       "    'channelId': 'UCBR8-60-B28hp2BmDPdntcQ'}},\n",
       "  {'kind': 'youtube#videoCategory',\n",
       "   'etag': 'QHiWh3niw5hjDrim85M8IGF45eE',\n",
       "   'id': '38',\n",
       "   'snippet': {'title': 'Foreign',\n",
       "    'assignable': False,\n",
       "    'channelId': 'UCBR8-60-B28hp2BmDPdntcQ'}},\n",
       "  {'kind': 'youtube#videoCategory',\n",
       "   'etag': 'ztKcSS7GpH9uEyZk9nQCdNujvGg',\n",
       "   'id': '39',\n",
       "   'snippet': {'title': 'Horror',\n",
       "    'assignable': False,\n",
       "    'channelId': 'UCBR8-60-B28hp2BmDPdntcQ'}},\n",
       "  {'kind': 'youtube#videoCategory',\n",
       "   'etag': 'Ids1sm8QFeSo_cDlpcUNrnEBYWA',\n",
       "   'id': '40',\n",
       "   'snippet': {'title': 'Sci-Fi/Fantasy',\n",
       "    'assignable': False,\n",
       "    'channelId': 'UCBR8-60-B28hp2BmDPdntcQ'}},\n",
       "  {'kind': 'youtube#videoCategory',\n",
       "   'etag': 'qhfgS7MzzZHIy_UZ1dlawl1GbnY',\n",
       "   'id': '41',\n",
       "   'snippet': {'title': 'Thriller',\n",
       "    'assignable': False,\n",
       "    'channelId': 'UCBR8-60-B28hp2BmDPdntcQ'}},\n",
       "  {'kind': 'youtube#videoCategory',\n",
       "   'etag': 'TxVSfGoUyT7CJ7h7ebjg4vhIt6g',\n",
       "   'id': '42',\n",
       "   'snippet': {'title': 'Shorts',\n",
       "    'assignable': False,\n",
       "    'channelId': 'UCBR8-60-B28hp2BmDPdntcQ'}},\n",
       "  {'kind': 'youtube#videoCategory',\n",
       "   'etag': 'o9w6eNqzjHPnNbKDujnQd8pklXM',\n",
       "   'id': '43',\n",
       "   'snippet': {'title': 'Shows',\n",
       "    'assignable': False,\n",
       "    'channelId': 'UCBR8-60-B28hp2BmDPdntcQ'}},\n",
       "  {'kind': 'youtube#videoCategory',\n",
       "   'etag': 'mLdyKd0VgXKDI6GevTLBAcvRlIU',\n",
       "   'id': '44',\n",
       "   'snippet': {'title': 'Trailers',\n",
       "    'assignable': False,\n",
       "    'channelId': 'UCBR8-60-B28hp2BmDPdntcQ'}}]}"
      ]
     },
     "metadata": {},
     "output_type": "display_data"
    }
   ],
   "source": [
    "google.youtube.videoCategories().list(\n",
    "        part='snippet',\n",
    "        regionCode='US',\n",
    "    ).execute()"
   ]
  },
  {
   "cell_type": "code",
   "execution_count": 154,
   "metadata": {},
   "outputs": [
    {
     "data": {
      "text/plain": [
       "''"
      ]
     },
     "execution_count": 154,
     "metadata": {},
     "output_type": "execute_result"
    }
   ],
   "source": [
    "content= \"\"\"📽️ Video Description 📽️: \n",
    "Enter a world of robotic humor with Robo and Tinker! 🤖😂 Watch as Tinker tests Robo's buttons, both literally and figuratively, leading to a series of hilarious malfunctions and a playful chase. It's a laugh-out-loud moment of technological mishaps and mischievous fun!\n",
    "\n",
    "🏫 English Explanation 🗣️: \n",
    "1. Robot: A machine capable of carrying out complex actions, often personified in humor.\n",
    "2. Button: Literally a part of the robot used for operation, and a metaphor for triggering reactions.\n",
    "3. System overload: A state where a system can't handle the amount of information or operations, used here for comic effect.\n",
    "4. Anger rising: Typically a human emotion, humorously applied to a robot as part of the pun.\n",
    "5. Catch me if you can: A playful phrase that turns a technical scenario into a game of tag between Robo and Tinker.\n",
    "\n",
    "#shorts #LearnEnglish #StudyEnglish #Humor #Funny #Joke #ShortStory #1min #Anglais #AprenderInglés #ingles #英語学習 #英語 #学英语 #英语学习 #영어학습지\"\"\"\n"
   ]
  },
  {
   "cell_type": "code",
   "execution_count": null,
   "metadata": {},
   "outputs": [],
   "source": []
  },
  {
   "cell_type": "markdown",
   "metadata": {},
   "source": [
    "### Test"
   ]
  },
  {
   "cell_type": "code",
   "execution_count": 2,
   "metadata": {},
   "outputs": [
    {
     "data": {
      "text/plain": [
       "{'New Document': '1OMVHFiIQWVw2_ry0xnknynu7ykuPqatIgwRNriPoY7I',\n",
       " 'API Test 02': '1vseDxlFWOAsZrJTlmOX8QrvfsoWNbHlDAk9r7mI6I_E',\n",
       " '1059_CarelessQuery': '1OiQVuC5D0AflKGu5beG63NaUsWH1L7LYuzu_TQXmtxA'}"
      ]
     },
     "execution_count": 2,
     "metadata": {},
     "output_type": "execute_result"
    }
   ],
   "source": [
    "# get list of docs in a specific folder\n",
    "folder_id = '1FKQa5QuHeDidQMLIlMqad77KLCmr9WOG'\n",
    "docs = google.list_docs(folder_id)\n",
    "docs"
   ]
  },
  {
   "cell_type": "code",
   "execution_count": 5,
   "metadata": {},
   "outputs": [
    {
     "name": "stdout",
     "output_type": "stream",
     "text": [
      "Success: New Docs Created\n"
     ]
    },
    {
     "data": {
      "text/plain": [
       "'1EndVlQhjnT8OoGbNTxHn82rquMUgubMxSdrzkeM3flY'"
      ]
     },
     "execution_count": 5,
     "metadata": {},
     "output_type": "execute_result"
    }
   ],
   "source": [
    "# create a new docs\n",
    "created_id = google.create_docs(\"API Test from Python (move_to_trash)\")\n",
    "created_id"
   ]
  },
  {
   "cell_type": "code",
   "execution_count": 7,
   "metadata": {},
   "outputs": [
    {
     "name": "stdout",
     "output_type": "stream",
     "text": [
      "Success: Document Moved to Trash\n"
     ]
    }
   ],
   "source": [
    "# move docs to trash\n",
    "#google.move_to_trash(created_id)"
   ]
  },
  {
   "cell_type": "code",
   "execution_count": 4,
   "metadata": {},
   "outputs": [
    {
     "name": "stdout",
     "output_type": "stream",
     "text": [
      "Success: Document Deleted\n"
     ]
    }
   ],
   "source": [
    "# delete docs\n",
    "#google.delete_docs(created_id)"
   ]
  },
  {
   "cell_type": "code",
   "execution_count": 8,
   "metadata": {},
   "outputs": [
    {
     "data": {
      "text/plain": [
       "'📽️ Video Description 📽️: \\nDive into a tale of digital miscommunication as queries go awry in a comedic exchange of mistaken searches! 🖥️😂 Watch as the confusion unfolds, with each misunderstood prompt leading to more laughs, proving that even in the age of technology, errors can be a source of joy.\\n\\n🏫 English Explanation 🗣️: \\n1. Query: Refers to a request for information, typically in a database or search engine.\\n2. Miscommunication: A failure to communicate effectively, which is the source of humor in this scenario.\\n3. Digital: Pertaining to technology, emphasizing the modern setting of the joke.\\n4. Search: The act of looking for information, leading to funny results from mixed-up inputs.\\n5. Prompt: A command or instruction given to a computer, often leading to unexpected outcomes when mistaken.\\n\\n#shorts #LearnEnglish #StudyEnglish #Humor #Funny #Joke #ShortStory #1min #Anglais #AprenderInglés #ingles #英語学習 #英語 #学英语 #英语学习 #영어학습지\\n\\n'"
      ]
     },
     "execution_count": 8,
     "metadata": {},
     "output_type": "execute_result"
    }
   ],
   "source": [
    "# get document\n",
    "text_content = google.get_document_content('1OiQVuC5D0AflKGu5beG63NaUsWH1L7LYuzu_TQXmtxA')\n",
    "text_content"
   ]
  },
  {
   "cell_type": "code",
   "execution_count": 19,
   "metadata": {},
   "outputs": [
    {
     "name": "stdout",
     "output_type": "stream",
     "text": [
      "📽️ Video Description 📽️: \n",
      "Dive into a tale of digital miscommunication as queries go awry in a comedic exchange of mistaken searches! 🖥️😂 Watch as the confusion unfolds, with each misunderstood prompt leading to more laughs, proving that even in the age of technology, errors can be a source of joy.\n",
      "\n",
      "🏫 English Explanation 🗣️: \n",
      "1. Query: Refers to a request for information, typically in a database or search engine.\n",
      "2. Miscommunication: A failure to communicate effectively, which is the source of humor in this scenario.\n",
      "3. Digital: Pertaining to technology, emphasizing the modern setting of the joke.\n",
      "4. Search: The act of looking for information, leading to funny results from mixed-up inputs.\n",
      "5. Prompt: A command or instruction given to a computer, often leading to unexpected outcomes when mistaken.\n",
      "\n",
      "#shorts #LearnEnglish #StudyEnglish #Humor #Funny #Joke #ShortStory #1min #Anglais #AprenderInglés #ingles #英語学習 #英語 #学英语 #英语学习 #영어학습지\n",
      "\n",
      "\n"
     ]
    }
   ],
   "source": [
    "print(text_content)"
   ]
  },
  {
   "cell_type": "code",
   "execution_count": null,
   "metadata": {},
   "outputs": [],
   "source": []
  }
 ],
 "metadata": {
  "kernelspec": {
   "display_name": "Python 3",
   "language": "python",
   "name": "python3"
  },
  "language_info": {
   "codemirror_mode": {
    "name": "ipython",
    "version": 3
   },
   "file_extension": ".py",
   "mimetype": "text/x-python",
   "name": "python",
   "nbconvert_exporter": "python",
   "pygments_lexer": "ipython3",
   "version": "3.11.9"
  }
 },
 "nbformat": 4,
 "nbformat_minor": 2
}
