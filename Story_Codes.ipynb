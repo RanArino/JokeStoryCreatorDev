{
 "cells": [
  {
   "cell_type": "code",
   "execution_count": 47,
   "metadata": {},
   "outputs": [],
   "source": [
    "import pandas as pd\n",
    "import Functions as F\n",
    "import importlib\n",
    "import pyperclip as clip\n",
    "import json"
   ]
  },
  {
   "cell_type": "code",
   "execution_count": 48,
   "metadata": {},
   "outputs": [
    {
     "name": "stdout",
     "output_type": "stream",
     "text": [
      "Please visit this URL to authorize this application: https://accounts.google.com/o/oauth2/auth?response_type=code&client_id=260967290589-b75u6164vnmki0764bf4og1hhrrqn27b.apps.googleusercontent.com&redirect_uri=http%3A%2F%2Flocalhost%3A50405%2F&scope=https%3A%2F%2Fwww.googleapis.com%2Fauth%2Fdocuments+https%3A%2F%2Fwww.googleapis.com%2Fauth%2Fdrive.file+https%3A%2F%2Fwww.googleapis.com%2Fauth%2Fdrive+https%3A%2F%2Fwww.googleapis.com%2Fauth%2Fyoutube+https%3A%2F%2Fwww.googleapis.com%2Fauth%2Fyoutube.readonly+https%3A%2F%2Fwww.googleapis.com%2Fauth%2Fyoutube.upload+https%3A%2F%2Fwww.googleapis.com%2Fauth%2Fyoutube.force-ssl&state=BuCVdS2gooAiWlCT8Au9udQ6sI3Exg&access_type=offline\n"
     ]
    },
    {
     "data": {
      "text/html": [
       "<div>\n",
       "<style scoped>\n",
       "    .dataframe tbody tr th:only-of-type {\n",
       "        vertical-align: middle;\n",
       "    }\n",
       "\n",
       "    .dataframe tbody tr th {\n",
       "        vertical-align: top;\n",
       "    }\n",
       "\n",
       "    .dataframe thead th {\n",
       "        text-align: right;\n",
       "    }\n",
       "</style>\n",
       "<table border=\"1\" class=\"dataframe\">\n",
       "  <thead>\n",
       "    <tr style=\"text-align: right;\">\n",
       "      <th></th>\n",
       "      <th>id</th>\n",
       "      <th>joke</th>\n",
       "      <th>origin_id</th>\n",
       "      <th>culture</th>\n",
       "      <th>category</th>\n",
       "      <th>description</th>\n",
       "      <th>title</th>\n",
       "      <th>c1_name</th>\n",
       "      <th>c2_name</th>\n",
       "      <th>c1_gender</th>\n",
       "      <th>...</th>\n",
       "      <th>c1_2</th>\n",
       "      <th>c2_2</th>\n",
       "      <th>n_3</th>\n",
       "      <th>c1_3</th>\n",
       "      <th>c2_3</th>\n",
       "      <th>n_4</th>\n",
       "      <th>c1_4</th>\n",
       "      <th>c2_4</th>\n",
       "      <th>script_flow</th>\n",
       "      <th>image_id</th>\n",
       "    </tr>\n",
       "  </thead>\n",
       "  <tbody>\n",
       "    <tr>\n",
       "      <th>9</th>\n",
       "      <td>1063</td>\n",
       "      <td>What's the difference between a rooster and a ...</td>\n",
       "      <td>4Elysrzs4wc</td>\n",
       "      <td>General</td>\n",
       "      <td>icanhazdadjoke</td>\n",
       "      <td>Play on words involving bird sounds and names</td>\n",
       "      <td>Bird Confusion</td>\n",
       "      <td>Rooster</td>\n",
       "      <td>Crow</td>\n",
       "      <td>male</td>\n",
       "      <td>...</td>\n",
       "      <td>You need to be louder!</td>\n",
       "      <td>This is harder than it looks!</td>\n",
       "      <td>Rooster tries to teach Crow the right technique.</td>\n",
       "      <td>From your chest, push out!</td>\n",
       "      <td>Like this?</td>\n",
       "      <td>They both laugh as Crow fails again humorously.</td>\n",
       "      <td>Almost got it!</td>\n",
       "      <td>Guess I'll stick to cawing!</td>\n",
       "      <td>[n_1, c1_1, c2_1, n_2, c1_2, c2_2, n_3, c1_3, ...</td>\n",
       "      <td>FF04u5Q9MdRaWbXC</td>\n",
       "    </tr>\n",
       "  </tbody>\n",
       "</table>\n",
       "<p>1 rows × 25 columns</p>\n",
       "</div>"
      ],
      "text/plain": [
       "     id                                               joke    origin_id  \\\n",
       "9  1063  What's the difference between a rooster and a ...  4Elysrzs4wc   \n",
       "\n",
       "   culture        category                                    description  \\\n",
       "9  General  icanhazdadjoke  Play on words involving bird sounds and names   \n",
       "\n",
       "            title  c1_name c2_name c1_gender  ...                    c1_2  \\\n",
       "9  Bird Confusion  Rooster    Crow      male  ...  You need to be louder!   \n",
       "\n",
       "                            c2_2  \\\n",
       "9  This is harder than it looks!   \n",
       "\n",
       "                                                n_3  \\\n",
       "9  Rooster tries to teach Crow the right technique.   \n",
       "\n",
       "                         c1_3        c2_3  \\\n",
       "9  From your chest, push out!  Like this?   \n",
       "\n",
       "                                               n_4            c1_4  \\\n",
       "9  They both laugh as Crow fails again humorously.  Almost got it!   \n",
       "\n",
       "                          c2_4  \\\n",
       "9  Guess I'll stick to cawing!   \n",
       "\n",
       "                                         script_flow          image_id  \n",
       "9  [n_1, c1_1, c2_1, n_2, c1_2, c2_2, n_3, c1_3, ...  FF04u5Q9MdRaWbXC  \n",
       "\n",
       "[1 rows x 25 columns]"
      ]
     },
     "execution_count": 48,
     "metadata": {},
     "output_type": "execute_result"
    }
   ],
   "source": [
    "importlib.reload(F)\n",
    "# get the latest data\n",
    "JS = F.JokeStory('joke_data2.json') # joke_data.json -> finish until 130 (start from 131)\n",
    "if len(JS.story.dropna()) > 0:\n",
    "    # get the latest 10 aggregated data\n",
    "    data = pd.merge(JS.joke, JS.story, how='right', on='id')\n",
    "else:\n",
    "    data = JS.joke\n",
    "\n",
    "data.dropna().tail(1)"
   ]
  },
  {
   "cell_type": "markdown",
   "metadata": {},
   "source": [
    "## Table of Contents\n",
    "\n",
    "- [Code 101&102: Generate Story and Images](#Code-101&102:-Generate-Story-and-Images)\n",
    "    - [Story Prompts](#Story-Prompts)\n",
    "    - [Image Prompts](#Image-Prompts)\n",
    "    - [Update Data](#Update-Story-Data)\n",
    "\n",
    "- [Code 103: Title and End Images](#Code-103:-Images-for-Title-and-End)\n",
    "\n",
    "- [Code 104: SNS Messages](#Code-104:-SNS-Messages)\n",
    "\n",
    "- [Code 100: Generate Jokes](#Code-100:-Generate-Jokes)\n",
    "    - [Prompts](#Joke-Prompts)\n",
    "    - [Update Data](#Update-Joke-Data)\n",
    "\n",
    "- [Memo](#Memo)"
   ]
  },
  {
   "cell_type": "markdown",
   "metadata": {},
   "source": [
    "### Code 101&102: Generate Story and Images"
   ]
  },
  {
   "cell_type": "markdown",
   "metadata": {},
   "source": [
    "#### Story Prompts"
   ]
  },
  {
   "cell_type": "code",
   "execution_count": 69,
   "metadata": {},
   "outputs": [
    {
     "name": "stdout",
     "output_type": "stream",
     "text": [
      "Yesterday, I accidentally swallowed some food coloring. The doctor says I’m okay, but I feel like I’ve dyed a little inside.\n"
     ]
    }
   ],
   "source": [
    "# generate prompt\n",
    "p1 = F.prompt1(JS.get_next_joke())\n",
    "print(JS.get_next_joke())\n",
    "# copy prompt to clipboard\n",
    "clip.copy(p1)"
   ]
  },
  {
   "cell_type": "markdown",
   "metadata": {},
   "source": [
    "#### Image Prompts"
   ]
  },
  {
   "cell_type": "code",
   "execution_count": 70,
   "metadata": {},
   "outputs": [],
   "source": [
    "p2 = F.prompt2()\n",
    "# copy prompt to clipboard\n",
    "clip.copy(p2)"
   ]
  },
  {
   "cell_type": "markdown",
   "metadata": {},
   "source": [
    "#### Update Story Data"
   ]
  },
  {
   "cell_type": "code",
   "execution_count": 76,
   "metadata": {},
   "outputs": [
    {
     "name": "stdout",
     "output_type": "stream",
     "text": [
      "Success: Story Data Updated\n",
      "Success: Image Preprocessing\n",
      "Success: New Docs Created\n",
      "File Name:  1066_ColorfulGuts\n"
     ]
    }
   ],
   "source": [
    "# get the story script\n",
    "with open('story_script.json', 'r', encoding='utf-8') as f:\n",
    "    story_script = json.load(f)\n",
    "\n",
    "# update data\n",
    "story = JS.save_story_data(story_script)\n",
    "# rename, relocate, and convert to png format\n",
    "result = JS.image_preprocess()\n",
    "if result['status'] == 'success':\n",
    "    # create a new google docs\n",
    "    JS.google.create_docs(result['message'])\n",
    "    print(\"File Name: \", result['message'])\n",
    "else:\n",
    "    print(result['message'])"
   ]
  },
  {
   "cell_type": "code",
   "execution_count": 9,
   "metadata": {},
   "outputs": [],
   "source": [
    "#JS.convert_webp_to_png()"
   ]
  },
  {
   "cell_type": "markdown",
   "metadata": {},
   "source": [
    "### Code 104: SNS Messages"
   ]
  },
  {
   "cell_type": "code",
   "execution_count": 75,
   "metadata": {},
   "outputs": [
    {
     "name": "stdout",
     "output_type": "stream",
     "text": [
      "\n",
      "        - Activate code '104'\n",
      "            - path: \"Stories/1065_CheesyDilemma.json\" \n",
      "            - branch: \"main\"\n",
      "        - Call 'editDocs' action; \n",
      "            - documentId: \"129nlso3WrEuqJR6-7hlqbBqQUG86NY-DMg6dFcFdGqw\"\n",
      "            - insertText(text: your generated contents, location: (index: 1))\n",
      "        \n",
      "        - Activate code '104'\n",
      "            - path: \"Stories/1064_Seven-UpMixup.json\" \n",
      "            - branch: \"main\"\n",
      "        - Call 'editDocs' action; \n",
      "            - documentId: \"1ZrphAaoCF1H16aTn074Yc_w1XqJGLAY9ImRIYOWMdTk\"\n",
      "            - insertText(text: your generated contents, location: (index: 1))\n",
      "        \n",
      "Activate code '104' twice, do not forget inserting the generated contents on 'text' of 'insertText'.\n",
      "\n"
     ]
    }
   ],
   "source": [
    "# Get the list of documentId; return {\"id_title\": \"documentId\"}\n",
    "doc_ids = JS.google.list_docs()\n",
    "\n",
    "F.prompt3(doc_ids)"
   ]
  },
  {
   "cell_type": "code",
   "execution_count": null,
   "metadata": {},
   "outputs": [],
   "source": []
  },
  {
   "cell_type": "markdown",
   "metadata": {},
   "source": [
    "### Code 100: Generate Jokes"
   ]
  },
  {
   "cell_type": "markdown",
   "metadata": {},
   "source": [
    "#### Joke Prompts"
   ]
  },
  {
   "cell_type": "code",
   "execution_count": 3,
   "metadata": {},
   "outputs": [
    {
     "name": "stdout",
     "output_type": "stream",
     "text": [
      "Activate 'Code 100'.\n",
      "Return only code snippet of CSV format.\n",
      "Make sure that each row of output data has three values; culture(str), category(str), and the generated joke(str).\n",
      "Retrieve the existing jokes without **decoding** and **analyzing** them, and make sure no duplicated sentence of jokes.\n",
      "\n",
      "Here is the list of prompts; generate a creative and unique joke per prompts.\n",
      "[\"Generate a creative and unique joke based on 'General' culture and 'Valentine' category.\", \"Generate a creative and unique joke based on 'General' culture and 'Valentine' category.\", \"Generate a creative and unique joke based on 'General' culture and 'Valentine' category.\", \"Generate a creative and unique joke based on 'General' culture and 'Valentine' category.\", \"Generate a creative and unique joke based on 'General' culture and 'Valentine' category.\", \"Generate a creative and unique joke based on 'General' culture and 'Valentine' category.\", \"Generate a creative and unique joke based on 'General' culture and 'Valentine' category.\", \"Generate a creative and unique joke based on 'General' culture and 'Valentine' category.\", \"Generate a creative and unique joke based on 'General' culture and 'Valentine' category.\", \"Generate a creative and unique joke based on 'General' culture and 'Valentine' category.\"]\n"
     ]
    }
   ],
   "source": [
    "JS.joke_prompts(culture_opt='General', category_opt='Valentine', number=10)"
   ]
  },
  {
   "cell_type": "markdown",
   "metadata": {},
   "source": [
    "#### Update Joke Data"
   ]
  },
  {
   "cell_type": "code",
   "execution_count": null,
   "metadata": {},
   "outputs": [
    {
     "data": {
      "text/html": [
       "<div>\n",
       "<style scoped>\n",
       "    .dataframe tbody tr th:only-of-type {\n",
       "        vertical-align: middle;\n",
       "    }\n",
       "\n",
       "    .dataframe tbody tr th {\n",
       "        vertical-align: top;\n",
       "    }\n",
       "\n",
       "    .dataframe thead th {\n",
       "        text-align: right;\n",
       "    }\n",
       "</style>\n",
       "<table border=\"1\" class=\"dataframe\">\n",
       "  <thead>\n",
       "    <tr style=\"text-align: right;\">\n",
       "      <th></th>\n",
       "      <th>id</th>\n",
       "      <th>culture</th>\n",
       "      <th>category</th>\n",
       "      <th>joke</th>\n",
       "    </tr>\n",
       "  </thead>\n",
       "  <tbody>\n",
       "    <tr>\n",
       "      <th>185</th>\n",
       "      <td>185</td>\n",
       "      <td>General</td>\n",
       "      <td>Valentine</td>\n",
       "      <td>What's a chocolate's favorite kind of music on...</td>\n",
       "    </tr>\n",
       "    <tr>\n",
       "      <th>186</th>\n",
       "      <td>186</td>\n",
       "      <td>General</td>\n",
       "      <td>Valentine</td>\n",
       "      <td>Why was the chocolate box nervous on Valentine...</td>\n",
       "    </tr>\n",
       "    <tr>\n",
       "      <th>187</th>\n",
       "      <td>187</td>\n",
       "      <td>General</td>\n",
       "      <td>Valentine</td>\n",
       "      <td>How do chocolates stay fit for Valentine's Day...</td>\n",
       "    </tr>\n",
       "    <tr>\n",
       "      <th>188</th>\n",
       "      <td>188</td>\n",
       "      <td>General</td>\n",
       "      <td>Valentine</td>\n",
       "      <td>What did the chocolate say to the Valentine's ...</td>\n",
       "    </tr>\n",
       "    <tr>\n",
       "      <th>189</th>\n",
       "      <td>189</td>\n",
       "      <td>General</td>\n",
       "      <td>Valentine</td>\n",
       "      <td>Why did the chocolate give his girlfriend a bo...</td>\n",
       "    </tr>\n",
       "  </tbody>\n",
       "</table>\n",
       "</div>"
      ],
      "text/plain": [
       "      id  culture   category  \\\n",
       "185  185  General  Valentine   \n",
       "186  186  General  Valentine   \n",
       "187  187  General  Valentine   \n",
       "188  188  General  Valentine   \n",
       "189  189  General  Valentine   \n",
       "\n",
       "                                                  joke  \n",
       "185  What's a chocolate's favorite kind of music on...  \n",
       "186  Why was the chocolate box nervous on Valentine...  \n",
       "187  How do chocolates stay fit for Valentine's Day...  \n",
       "188  What did the chocolate say to the Valentine's ...  \n",
       "189  Why did the chocolate give his girlfriend a bo...  "
      ]
     },
     "execution_count": 18,
     "metadata": {},
     "output_type": "execute_result"
    }
   ],
   "source": [
    "# update data\n",
    "raw_csv = \"\"\"\n",
    "\n",
    "\"\"\"\n",
    "\n",
    "joke = JS.update_joke_data(raw_csv)\n",
    "joke.tail()"
   ]
  },
  {
   "cell_type": "code",
   "execution_count": 14,
   "metadata": {},
   "outputs": [
    {
     "data": {
      "text/html": [
       "<div>\n",
       "<style scoped>\n",
       "    .dataframe tbody tr th:only-of-type {\n",
       "        vertical-align: middle;\n",
       "    }\n",
       "\n",
       "    .dataframe tbody tr th {\n",
       "        vertical-align: top;\n",
       "    }\n",
       "\n",
       "    .dataframe thead th {\n",
       "        text-align: right;\n",
       "    }\n",
       "</style>\n",
       "<table border=\"1\" class=\"dataframe\">\n",
       "  <thead>\n",
       "    <tr style=\"text-align: right;\">\n",
       "      <th></th>\n",
       "      <th>id</th>\n",
       "      <th>culture</th>\n",
       "      <th>category</th>\n",
       "      <th>joke</th>\n",
       "    </tr>\n",
       "  </thead>\n",
       "  <tbody>\n",
       "    <tr>\n",
       "      <th>157</th>\n",
       "      <td>157</td>\n",
       "      <td>General</td>\n",
       "      <td>Observational humor</td>\n",
       "      <td>Isn't it funny how we never see snowmen at the...</td>\n",
       "    </tr>\n",
       "    <tr>\n",
       "      <th>158</th>\n",
       "      <td>158</td>\n",
       "      <td>General</td>\n",
       "      <td>Wordplay jokes</td>\n",
       "      <td>If April showers bring May flowers, what do Ma...</td>\n",
       "    </tr>\n",
       "    <tr>\n",
       "      <th>159</th>\n",
       "      <td>159</td>\n",
       "      <td>General</td>\n",
       "      <td>Animal jokes</td>\n",
       "      <td>Why don’t polar bears get married in winter? B...</td>\n",
       "    </tr>\n",
       "    <tr>\n",
       "      <th>160</th>\n",
       "      <td>160</td>\n",
       "      <td>General</td>\n",
       "      <td>Doctor jokes</td>\n",
       "      <td>Why do doctors make the worst snowmen? Because...</td>\n",
       "    </tr>\n",
       "    <tr>\n",
       "      <th>161</th>\n",
       "      <td>161</td>\n",
       "      <td>General</td>\n",
       "      <td>Technology jokes</td>\n",
       "      <td>Why did the smartphone wear a scarf? Because i...</td>\n",
       "    </tr>\n",
       "  </tbody>\n",
       "</table>\n",
       "</div>"
      ],
      "text/plain": [
       "      id  culture             category  \\\n",
       "157  157  General  Observational humor   \n",
       "158  158  General       Wordplay jokes   \n",
       "159  159  General         Animal jokes   \n",
       "160  160  General         Doctor jokes   \n",
       "161  161  General     Technology jokes   \n",
       "\n",
       "                                                  joke  \n",
       "157  Isn't it funny how we never see snowmen at the...  \n",
       "158  If April showers bring May flowers, what do Ma...  \n",
       "159  Why don’t polar bears get married in winter? B...  \n",
       "160  Why do doctors make the worst snowmen? Because...  \n",
       "161  Why did the smartphone wear a scarf? Because i...  "
      ]
     },
     "execution_count": 14,
     "metadata": {},
     "output_type": "execute_result"
    }
   ],
   "source": [
    "joke = pd.read_json('joke_data.json')\n",
    "joke['id'] = [i for i in range(len(joke))]\n",
    "joke.tail()"
   ]
  },
  {
   "cell_type": "code",
   "execution_count": 15,
   "metadata": {},
   "outputs": [],
   "source": [
    "joke.to_json('joke_data.json', orient='records', indent=4)"
   ]
  },
  {
   "cell_type": "markdown",
   "metadata": {},
   "source": [
    "### Code 103: Images for Title and End"
   ]
  },
  {
   "cell_type": "code",
   "execution_count": null,
   "metadata": {},
   "outputs": [],
   "source": [
    "story = JS.story.dropna().iloc[-1]\n",
    "joke_id = f\"{story['id']:03d}\"\n",
    "img_title = f\"{story['title'].replace(' ', '')}\"\n",
    "outputs = [f\"{joke_id}_{img_title}\", f\"{joke_id}_title.png\", f\"{joke_id}_end.png\"]\n",
    "\n",
    "# get the path to the story script\n",
    "path = f\"Stories/{joke_id}_{img_title}.json\"\n",
    "#img_params = {\"size\": \"1024x1792\", \"quality\": \"hd\"}\n",
    "print(f\"\"\"Activate Code '103':\n",
    "- Image must be \"1024x1792\" size without any words.\n",
    "- Two images must be suitable to the story of {story['title']} that we are focusing on; please referring to the latest story scripts.\n",
    "- Precisely follow the four steps outlined in \"actions\" component.\"\"\")\n",
    "outputs"
   ]
  },
  {
   "cell_type": "markdown",
   "metadata": {},
   "source": [
    "### Memo"
   ]
  },
  {
   "cell_type": "code",
   "execution_count": null,
   "metadata": {},
   "outputs": [],
   "source": [
    "import requests\n",
    "import time\n",
    "import pandas as pd\n",
    "import random\n",
    "import json"
   ]
  },
  {
   "cell_type": "code",
   "execution_count": null,
   "metadata": {},
   "outputs": [],
   "source": []
  },
  {
   "cell_type": "code",
   "execution_count": null,
   "metadata": {},
   "outputs": [],
   "source": [
    "\"\"\"\n",
    "# icanhazdadjoke\n",
    "jokes_list = []\n",
    "count = 0\n",
    "for i in range(1, 2):\n",
    "    r = requests.get(f'https://icanhazdadjoke.com/search?page={i}', headers={\"Accept\":\"application/json\"})\n",
    "    results = r.json()['results']\n",
    "    for joke in results:\n",
    "        joke['origin_id'] = joke['id']\n",
    "        joke['id'] = 1000 + count\n",
    "        joke['culture'] = \"General\"\n",
    "        joke['category'] = 'icanhazdadjoke'\n",
    "\n",
    "        jokes_list.append(joke)\n",
    "        count += 1\n",
    "\n",
    "    time.sleep(random.randint(1, 10))\n",
    "\n",
    "\n",
    "#with open('joke_data2.json', 'w') as f:\n",
    "#    json.dump(jokes_list, f, indent=4)\n",
    "\"\"\""
   ]
  },
  {
   "cell_type": "code",
   "execution_count": null,
   "metadata": {},
   "outputs": [],
   "source": []
  },
  {
   "cell_type": "code",
   "execution_count": null,
   "metadata": {},
   "outputs": [],
   "source": []
  },
  {
   "cell_type": "code",
   "execution_count": null,
   "metadata": {},
   "outputs": [],
   "source": [
    "# library install\n",
    "import random\n",
    "\n",
    "# define global variables\n",
    "OPTIONS = {\n",
    "    # OPTIONS for \"culture\"\n",
    "    \"culture\": [\n",
    "        \"General\",\n",
    "        \"North_American\",\n",
    "        \"Mexican\", \n",
    "        \"Brazilian\",\n",
    "        \"British\",\n",
    "        \"French\", \n",
    "        \"German\", \n",
    "        \"Italian\",\n",
    "        \"Spanish\",\n",
    "        \"Australian\",\n",
    "        \"Indian\",\n",
    "        \"Russian\",\n",
    "        \"Turkish\", \n",
    "        \"Iranian\",\n",
    "        \"Nigerian\", \n",
    "        \"South_African\",\n",
    "        \"Japanese\",\n",
    "        \"Chinese\",\n",
    "        \"Korean\"\n",
    "    ],\n",
    "    # OPTIONS for \"category\"\n",
    "    \"category\": [\n",
    "        \"One-liners\", \n",
    "        \"Puns\",\n",
    "        \"Knock-knock jokes\",\n",
    "        \"Dad jokes\",\n",
    "        \"Parody jokes\",\n",
    "        \"Absurdist humor\",\n",
    "        \"Observational humor\", \n",
    "        \"Wordplay jokes\",\n",
    "        \"Animal jokes\", \n",
    "        \"Food jokes\",\n",
    "        \"Doctor jokes\",  \n",
    "        \"School jokes\", \n",
    "        \"Sports jokes\", \n",
    "        \"Technology jokes\", \n",
    "        \"Travel jokes\", \n",
    "        \"Family jokes\", \n",
    "        \"Work jokes\",\n",
    "        \"Historical jokes\",\n",
    "        \"Science jokes\", \n",
    "        \"Math jokes\"\n",
    "    ],\n",
    "}\n",
    "\n"
   ]
  },
  {
   "cell_type": "code",
   "execution_count": null,
   "metadata": {},
   "outputs": [],
   "source": [
    "# image parameters\n",
    "image_parameters = {\n",
    "    \"theme\": [\"realistic\", \"futuristic\", \"cartoonish\", \"manga\", \"anime\", \"surreal\", \"vintage\", \"cyberpunk\", \"fantasy\", \"steampunk\"],\n",
    "    \"color_scheme\": [\"monochromatic\", \"complementary\", \"analogous\", \"triadic\", \"warm\", \"cool\", \"pastel\", \"neon\", \"muted\", \"saturated\"],\n",
    "    \"line_art_style\": [\"none\", \"painterly\", \"fine\", \"bold\", \"brush_stroke\", \"inked\", \"sketchy\", \"clean\", \"detailed\", \"minimalist\"],\n",
    "    \"character_design\": [\"realistic_proportions\", \"exaggerated_features\", \"stylized_abstract\", \"chibi\", \"elongated\", \"caricature\", \"robotic\"],\n",
    "    \"background_style\": [\"photorealistic\", \"painted\", \"abstract\", \"flat_color\", \"gradient\", \"patterned\", \"detailed\", \"minimalistic\"],\n",
    "    \"texture_detail\": [\"high_resolution\", \"low_poly\", \"pixel_art\", \"smooth\", \"gritty\", \"organic\", \"synthetic\"],\n",
    "    \"perspective\": [\"one_point\", \"two_point\", \"three_point\", \"isometric\", \"non-perspective\", \"fisheye\"],\n",
    "    \"lighting_and_shadows\": [\"realistic\", \"soft\", \"hard\", \"no_shadows\", \"high_contrast\", \"low_contrast\", \"ambient_only\"],\n",
    "    \"mood_and_emotion\": [\n",
    "        \"happy\", \"sad\", \"mysterious\", \"romantic\", \"tense\", \"relaxing\", \"energetic\", \"melancholic\",\n",
    "        \"humorous\", \"nostalgic\", \"inspiring\", \"serene\", \"suspenseful\", \"dramatic\", \"whimsical\", \"reflective\"\n",
    "    ],\n",
    "    \"composition\": [\"central_focus\", \"asymmetrical\", \"symmetrical\", \"circular\", \"diagonal\", \"triangular\", \"radial\"],\n",
    "    \"artistic_influences\": [\"Illustration_Art\", \"Renaissance\", \"Impressionism\", \"Expressionism\", \"Pop_Art\", \"Art_Nouveau\", \"Art_Deco\", \"Modernism\", \"Postmodernism\"]\n",
    "}\n",
    "\n",
    "default_image = {\n",
    "    \"theme\": \"cartoonish fantasy\",\n",
    "    \"color_scheme\": \"warm\",\n",
    "    \"line_art_style\": \"none\",\n",
    "    \"character_design\": \"exaggerated_features\",\n",
    "    \"background_style\": \"painted\",\n",
    "    \"texture_detail\": \"organic\",\n",
    "    \"perspective\": \"one_point\",\n",
    "    \"lighting_and_shadows\": \"soft\",\n",
    "    \"mood_and_emotion\": [\"hapy\", \"relaxing\"],\n",
    "    \"composition\": \"asymmetrical\",\n",
    "    \"artistic_influences\": \"Illustration_Art\"\n",
    "}"
   ]
  },
  {
   "cell_type": "code",
   "execution_count": null,
   "metadata": {},
   "outputs": [],
   "source": [
    "# Dev Ver.2 prompts\n",
    "\"\"\"\n",
    "\n",
    "Initialize the chat data so far and Execute GitHub API 'Get' request (path: \"Dev_Instructions.json\", branch: \"VSCode\")\n",
    "      \n",
    "Activate Code 101\n",
    "Joke/Punchline: 'Why don't chocolates argue on Valentine's Day? Because they always know how to kiss and make up.'\n",
    "- Re-install all the instructions whose ID is 101.\n",
    "- Focus on the interactions between only two main characters.\n",
    "- The story must be clearly-visually depicted.\n",
    "- Return DALL.E prompts as TXT format and Story scripts as JSON format; both outcomes are in code snippet.\n",
    "\n",
    "\"\"\"\n",
    "\n",
    "\"\"\"\n",
    "\n",
    "Activate Code '102'\n",
    "Re-loading the following components firstly:\n",
    "- \"generate_visualizations\" whose ID is 102 in 'Dev_Instructions.json'\n",
    "- \"image_parameters\" in 'Dev_Parameters.json'\n",
    "      \n",
    "- Depict the transited moments of characters' actions and emotions on four panels by considering the story scripts with high resolution, without any spoken words and any speech bubbles.\n",
    "- Return image ids in the end.\n",
    "- Repeat the processes at least two times with the same prompts.\n",
    "\n",
    "Here is the prompts for image generation:\n",
    "\n",
    "***\n",
    "\n",
    "***\n",
    "\n",
    "\n",
    "\"\"\"\n",
    "\n",
    "\"\"\"\n",
    "Activate Code '103':\n",
    "- Re-install the instructions whose ID is *103* and focus on 'actions' components as a 'role'.\n",
    "- Start generating images once upon understanding the instructions.\n",
    "- Images should be high resolution and realistic related to the story.\n",
    "\"\"\"\n",
    "\n",
    "\"\"\"\n",
    "Activate Code '104'\n",
    "Re-loading \"generate_social_media_descriptions\" in 'Dev_Instructions.json' firstly.\n",
    "Retrieve the story script whose path is \"{path}\" in the branch \"main\".\n",
    "\n",
    "DO NOT decode and display the retrieved information.\n",
    "DO NOT use Code Interpreter at all.\n",
    "Only return a code snippet section with three paragraphs as TXT format without any title of each.\n",
    "Dress the video description(first paragraph) with some emojis.\n",
    "Ensure to add pre-defined hashtags in the third paragraph.\n",
    "\"\"\""
   ]
  }
 ],
 "metadata": {
  "kernelspec": {
   "display_name": "Python 3",
   "language": "python",
   "name": "python3"
  },
  "language_info": {
   "codemirror_mode": {
    "name": "ipython",
    "version": 3
   },
   "file_extension": ".py",
   "mimetype": "text/x-python",
   "name": "python",
   "nbconvert_exporter": "python",
   "pygments_lexer": "ipython3",
   "version": "3.11.9"
  }
 },
 "nbformat": 4,
 "nbformat_minor": 2
}
